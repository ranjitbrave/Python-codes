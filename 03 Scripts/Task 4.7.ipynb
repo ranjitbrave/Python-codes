{
 "cells": [
  {
   "cell_type": "markdown",
   "id": "19a8b43e",
   "metadata": {},
   "source": [
    "# Importing Libraries"
   ]
  },
  {
   "cell_type": "code",
   "execution_count": 2,
   "id": "a18e6ab6",
   "metadata": {},
   "outputs": [],
   "source": [
    "# Import Libraries\n",
    "import pandas as pd\n",
    "import numpy as np\n",
    "import os"
   ]
  },
  {
   "cell_type": "code",
   "execution_count": 3,
   "id": "afb029db",
   "metadata": {},
   "outputs": [],
   "source": [
    "path = r'C:\\Users\\ranji\\04_22_Instacart_Basket_Analysis'"
   ]
  },
  {
   "cell_type": "code",
   "execution_count": 4,
   "id": "4181b6a3",
   "metadata": {},
   "outputs": [],
   "source": [
    "df_ords_prods_merge = pd.read_pickle(os.path.join(path, '02 Data', 'Prepared Data', 'orders_products_merged.pkl'))"
   ]
  },
  {
   "cell_type": "code",
   "execution_count": 5,
   "id": "35bc453e",
   "metadata": {},
   "outputs": [],
   "source": [
    "df = df_ords_prods_merge[:1000000]"
   ]
  },
  {
   "cell_type": "code",
   "execution_count": 6,
   "id": "8e788877",
   "metadata": {},
   "outputs": [],
   "source": [
    "def price_label(row):\n",
    "\n",
    "  if row['prices'] <= 5:\n",
    "    return 'Low-range product'\n",
    "  elif (row['prices'] > 5) and (row['prices'] <= 15):\n",
    "    return 'Mid-range product'\n",
    "  elif row['prices'] > 15:\n",
    "    return 'High range'\n",
    "  else: return 'Not enough data'\n",
    "    \n",
    "\n",
    "df['price_range'] = df.apply(price_label, axis=1)"
   ]
  },
  {
   "cell_type": "code",
   "execution_count": 8,
   "id": "5255a18f",
   "metadata": {},
   "outputs": [
    {
     "data": {
      "text/plain": [
       "Mid-range product    756450\n",
       "Low-range product    243550\n",
       "Name: price_range, dtype: int64"
      ]
     },
     "execution_count": 8,
     "metadata": {},
     "output_type": "execute_result"
    }
   ],
   "source": [
    "df['price_range'].value_counts(dropna = False)"
   ]
  },
  {
   "cell_type": "code",
   "execution_count": 9,
   "id": "78b7a3fe",
   "metadata": {},
   "outputs": [
    {
     "data": {
      "text/plain": [
       "14.8"
      ]
     },
     "execution_count": 9,
     "metadata": {},
     "output_type": "execute_result"
    }
   ],
   "source": [
    "df['prices'].max()"
   ]
  },
  {
   "cell_type": "code",
   "execution_count": 10,
   "id": "b31c7a15",
   "metadata": {},
   "outputs": [
    {
     "name": "stderr",
     "output_type": "stream",
     "text": [
      "C:\\Users\\ranji\\anaconda3\\lib\\site-packages\\pandas\\core\\indexing.py:1684: SettingWithCopyWarning: \n",
      "A value is trying to be set on a copy of a slice from a DataFrame.\n",
      "Try using .loc[row_indexer,col_indexer] = value instead\n",
      "\n",
      "See the caveats in the documentation: https://pandas.pydata.org/pandas-docs/stable/user_guide/indexing.html#returning-a-view-versus-a-copy\n",
      "  self.obj[key] = infer_fill_value(value)\n",
      "C:\\Users\\ranji\\anaconda3\\lib\\site-packages\\pandas\\core\\indexing.py:1817: SettingWithCopyWarning: \n",
      "A value is trying to be set on a copy of a slice from a DataFrame.\n",
      "Try using .loc[row_indexer,col_indexer] = value instead\n",
      "\n",
      "See the caveats in the documentation: https://pandas.pydata.org/pandas-docs/stable/user_guide/indexing.html#returning-a-view-versus-a-copy\n",
      "  self._setitem_single_column(loc, value, pi)\n"
     ]
    }
   ],
   "source": [
    "df.loc[df['prices'] > 15, 'price_range_loc'] = 'High-range product'\n",
    "df.loc[(df['prices'] <= 15) & (df['prices'] > 5), 'price_range_loc'] = 'Mid-range product' \n",
    "df.loc[df['prices'] <= 5, 'price_range_loc'] = 'Low-range product'"
   ]
  },
  {
   "cell_type": "code",
   "execution_count": 38,
   "id": "c21154c9",
   "metadata": {},
   "outputs": [],
   "source": [
    "result = []\n",
    "\n",
    "for value in df_ords_prods_merge[\"order_dow\"]:\n",
    "  if value == 0 :\n",
    "    result.append(\"Busiest day\")\n",
    "  elif value == 4:\n",
    "    result.append(\"Least busy\")\n",
    "  else:\n",
    "    result.append(\"Regularly busy\")\n",
    "    \n",
    "df_ords_prods_merge['Busiest_day'] = result"
   ]
  },
  {
   "cell_type": "markdown",
   "id": "c9e392e0",
   "metadata": {},
   "source": [
    "# Task"
   ]
  },
  {
   "cell_type": "code",
   "execution_count": 48,
   "id": "2df23b91",
   "metadata": {},
   "outputs": [],
   "source": [
    "#2 - Creating a new column for Busiest days and slowest days\n",
    "\n",
    "result_new = []\n",
    "\n",
    "for value in df_ords_prods_merge[\"order_dow\"]:\n",
    "  if value == 0 or value == 1:\n",
    "    result_new.append(\"Busiest days\")\n",
    "  elif value == 4 or value == 3 :\n",
    "    result_new.append(\"Slowest days\")\n",
    "  else:\n",
    "    result_new.append(\"Regular days\")\n",
    "    \n",
    "df_ords_prods_merge['Busiest_day'] = result_new"
   ]
  },
  {
   "cell_type": "code",
   "execution_count": 28,
   "id": "afe339d4",
   "metadata": {},
   "outputs": [
    {
     "data": {
      "text/plain": [
       "10    2764390\n",
       "11    2738585\n",
       "14    2691563\n",
       "15    2664522\n",
       "13    2663272\n",
       "12    2620800\n",
       "16    2537469\n",
       "9     2456661\n",
       "17    2089452\n",
       "8     1719952\n",
       "18    1637922\n",
       "19    1259382\n",
       "20     977017\n",
       "7      891928\n",
       "21     796362\n",
       "22     634737\n",
       "23     402612\n",
       "6      290770\n",
       "0      218942\n",
       "1      115786\n",
       "5       88057\n",
       "2       69431\n",
       "4       53283\n",
       "3       51317\n",
       "Name: order_hour, dtype: int64"
      ]
     },
     "execution_count": 28,
     "metadata": {},
     "output_type": "execute_result"
    }
   ],
   "source": [
    "#4 - Checking for Busiest hours of the day\n",
    "df_ords_prods_merge['order_hour'].value_counts(dropna = False)"
   ]
  },
  {
   "cell_type": "code",
   "execution_count": 62,
   "id": "9569c18a",
   "metadata": {},
   "outputs": [],
   "source": [
    "# Creating Statement and new column 'busiest_period_of_day'\n",
    "result_hour = []\n",
    "\n",
    "for value_hour in df_ords_prods_merge[\"order_hour\"]:\n",
    "  if value_hour == 10 or value_hour == 11 or value_hour == 14 or value_hour == 15 or value_hour == 13 or value_hour == 12 or value_hour == 16 or value_hour == 19:\n",
    "    result_hour.append(\"Most orders\")\n",
    "  elif value_hour == 17 or value_hour == 8 or value_hour == 18 or value_hour == 19 or value_hour == 20 or value_hour == 7 or value_hour == 21 or value_hour == 22:\n",
    "    result_hour.append(\"Average orders\")\n",
    "  else:\n",
    "    result_hour.append(\"Fewest orders\")\n",
    "    \n",
    "df_ords_prods_merge['busiest_period_of_day'] = result_new"
   ]
  },
  {
   "cell_type": "code",
   "execution_count": 66,
   "id": "b5462f11",
   "metadata": {},
   "outputs": [],
   "source": [
    "df_ords_prods_merge.to_pickle(os.path.join(path, '02 Data','Prepared Data', 'ords_prods_merge_4.7.pkl'))"
   ]
  }
 ],
 "metadata": {
  "kernelspec": {
   "display_name": "Python 3 (ipykernel)",
   "language": "python",
   "name": "python3"
  },
  "language_info": {
   "codemirror_mode": {
    "name": "ipython",
    "version": 3
   },
   "file_extension": ".py",
   "mimetype": "text/x-python",
   "name": "python",
   "nbconvert_exporter": "python",
   "pygments_lexer": "ipython3",
   "version": "3.9.7"
  }
 },
 "nbformat": 4,
 "nbformat_minor": 5
}
