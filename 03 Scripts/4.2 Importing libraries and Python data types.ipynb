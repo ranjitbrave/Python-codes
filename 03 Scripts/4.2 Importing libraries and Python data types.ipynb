{
 "cells": [
  {
   "cell_type": "markdown",
   "id": "f6bcd935",
   "metadata": {},
   "source": [
    "# 01. Importing libraries"
   ]
  },
  {
   "cell_type": "code",
   "execution_count": 2,
   "id": "8cae3fd7",
   "metadata": {},
   "outputs": [],
   "source": [
    "# Import Libraries\n",
    "import pandas as pd\n",
    "import numpy as np\n",
    "import os"
   ]
  },
  {
   "cell_type": "markdown",
   "id": "66d1b185",
   "metadata": {},
   "source": [
    "# Task 2"
   ]
  },
  {
   "cell_type": "code",
   "execution_count": 11,
   "id": "2867c70e",
   "metadata": {},
   "outputs": [],
   "source": [
    "x = 50\n",
    "y = 50"
   ]
  },
  {
   "cell_type": "code",
   "execution_count": 12,
   "id": "2c5bfd7e",
   "metadata": {},
   "outputs": [
    {
     "data": {
      "text/plain": [
       "100"
      ]
     },
     "execution_count": 12,
     "metadata": {},
     "output_type": "execute_result"
    }
   ],
   "source": [
    "x + y"
   ]
  },
  {
   "cell_type": "code",
   "execution_count": 13,
   "id": "e0d078e6",
   "metadata": {},
   "outputs": [],
   "source": [
    "x = 25"
   ]
  },
  {
   "cell_type": "code",
   "execution_count": 14,
   "id": "a9b97d3f",
   "metadata": {},
   "outputs": [
    {
     "data": {
      "text/plain": [
       "100"
      ]
     },
     "execution_count": 14,
     "metadata": {},
     "output_type": "execute_result"
    }
   ],
   "source": [
    "x * 4"
   ]
  },
  {
   "cell_type": "code",
   "execution_count": 19,
   "id": "598342c2",
   "metadata": {},
   "outputs": [],
   "source": [
    "x = 150\n",
    "y = 25\n",
    "z = 25"
   ]
  },
  {
   "cell_type": "code",
   "execution_count": 20,
   "id": "21c32c8d",
   "metadata": {},
   "outputs": [
    {
     "data": {
      "text/plain": [
       "100"
      ]
     },
     "execution_count": 20,
     "metadata": {},
     "output_type": "execute_result"
    }
   ],
   "source": [
    "x - y - z"
   ]
  },
  {
   "cell_type": "code",
   "execution_count": 21,
   "id": "c152ba18",
   "metadata": {},
   "outputs": [],
   "source": [
    "x = 5.6\n",
    "y = 2.3"
   ]
  },
  {
   "cell_type": "code",
   "execution_count": 22,
   "id": "31559970",
   "metadata": {},
   "outputs": [
    {
     "data": {
      "text/plain": [
       "2.4347826086956523"
      ]
     },
     "execution_count": 22,
     "metadata": {},
     "output_type": "execute_result"
    }
   ],
   "source": [
    "x/y"
   ]
  },
  {
   "cell_type": "code",
   "execution_count": 25,
   "id": "5d767446",
   "metadata": {},
   "outputs": [],
   "source": [
    "x = 'Pyt'\n",
    "y = 'hon'"
   ]
  },
  {
   "cell_type": "code",
   "execution_count": 26,
   "id": "e79512eb",
   "metadata": {},
   "outputs": [
    {
     "data": {
      "text/plain": [
       "'Python'"
      ]
     },
     "execution_count": 26,
     "metadata": {},
     "output_type": "execute_result"
    }
   ],
   "source": [
    "x + y"
   ]
  },
  {
   "cell_type": "code",
   "execution_count": 29,
   "id": "4ec3b8e7",
   "metadata": {},
   "outputs": [],
   "source": [
    "x = 'Hello '\n",
    "y = 'Dana. '\n",
    "z = 'How '\n",
    "a = 'are '\n",
    "b = 'you?'"
   ]
  },
  {
   "cell_type": "code",
   "execution_count": 30,
   "id": "f2412537",
   "metadata": {},
   "outputs": [
    {
     "data": {
      "text/plain": [
       "'Hello Dana. How are you?'"
      ]
     },
     "execution_count": 30,
     "metadata": {},
     "output_type": "execute_result"
    }
   ],
   "source": [
    "x + y + z + a + b"
   ]
  },
  {
   "cell_type": "markdown",
   "id": "c5efaa5a",
   "metadata": {},
   "source": [
    "# Bonus"
   ]
  },
  {
   "cell_type": "code",
   "execution_count": 31,
   "id": "d5a5b132",
   "metadata": {},
   "outputs": [],
   "source": [
    "x = 'Bonus'"
   ]
  },
  {
   "cell_type": "code",
   "execution_count": 32,
   "id": "846c5943",
   "metadata": {},
   "outputs": [
    {
     "data": {
      "text/plain": [
       "'BonusBonusBonusBonusBonusBonusBonusBonusBonusBonusBonusBonusBonusBonusBonusBonusBonusBonusBonusBonusBonusBonusBonusBonusBonusBonusBonusBonusBonusBonusBonusBonusBonusBonusBonusBonusBonusBonusBonusBonusBonusBonusBonusBonusBonusBonusBonusBonusBonusBonusBonusBonusBonusBonusBonusBonusBonusBonusBonusBonusBonusBonusBonusBonusBonusBonusBonusBonusBonusBonusBonusBonusBonusBonusBonusBonusBonusBonusBonusBonusBonusBonusBonusBonusBonusBonusBonusBonusBonusBonusBonusBonusBonusBonusBonusBonusBonusBonusBonusBonus'"
      ]
     },
     "execution_count": 32,
     "metadata": {},
     "output_type": "execute_result"
    }
   ],
   "source": [
    "x * 100"
   ]
  },
  {
   "cell_type": "code",
   "execution_count": null,
   "id": "e02dc75c",
   "metadata": {},
   "outputs": [],
   "source": []
  }
 ],
 "metadata": {
  "kernelspec": {
   "display_name": "Python 3 (ipykernel)",
   "language": "python",
   "name": "python3"
  },
  "language_info": {
   "codemirror_mode": {
    "name": "ipython",
    "version": 3
   },
   "file_extension": ".py",
   "mimetype": "text/x-python",
   "name": "python",
   "nbconvert_exporter": "python",
   "pygments_lexer": "ipython3",
   "version": "3.9.7"
  }
 },
 "nbformat": 4,
 "nbformat_minor": 5
}
