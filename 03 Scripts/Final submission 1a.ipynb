{
 "cells": [
  {
   "cell_type": "markdown",
   "id": "56131788",
   "metadata": {},
   "source": [
    "\n",
    "# Table of Contents\n",
    "### Region per location flag\n",
    "### Low activity customer flag\n",
    "### Subset for only normal activity customers\n",
    "### Customer profile on age\n",
    "### Customer profile on Income\n",
    "### Customer profile on Dependents\n",
    "### Bar chart - Orders per region\n",
    "### Bar chart - Orders per type of customer\n",
    "\n",
    "------ PAGE 2\n",
    "### Importing Libraries and data frame\n",
    "### Bar chart - Income groups with money spent\n",
    "### Bar chart - Orders per income group\n",
    "### Price range of products\n",
    "### Bar chart - Orders per price range\n",
    "### Bar chart - Price paid and Age\n",
    "### Bar chart - Orders per price range\n",
    "### Bar chart - Category of products sold"
   ]
  },
  {
   "cell_type": "code",
   "execution_count": 2,
   "id": "3688085e",
   "metadata": {},
   "outputs": [],
   "source": [
    "# Importing Libraries\n",
    "import pandas as pd\n",
    "import numpy as np\n",
    "import os\n",
    "import matplotlib.pyplot as plt\n",
    "import seaborn as sns\n",
    "import scipy"
   ]
  },
  {
   "cell_type": "code",
   "execution_count": 3,
   "id": "faab67ea",
   "metadata": {},
   "outputs": [],
   "source": [
    "path = r'C:\\Users\\ranji\\04_22_Instacart_Basket_Analysis'"
   ]
  },
  {
   "cell_type": "code",
   "execution_count": 3,
   "id": "b7849c2d",
   "metadata": {},
   "outputs": [],
   "source": [
    "#Importing data frame\n",
    "df_ords_prods_merge = pd.read_pickle(os.path.join(path, '02 Data', 'Prepared Data', 'Task_4.9_1.pkl'))"
   ]
  },
  {
   "cell_type": "code",
   "execution_count": 8,
   "id": "bf594f1d",
   "metadata": {},
   "outputs": [],
   "source": [
    "#Creating Region per location\n",
    "def region (row):\n",
    "\n",
    "  if (row['STATE'] == 'Maine') or (row['STATE'] == 'New Hampshire') or (row['STATE'] == 'Vermont') or (row['STATE'] == 'Massachusetts') or (row['STATE'] == 'Rhode Island') or (row['STATE'] == 'Connecticut') or (row['STATE'] == 'New York') or (row['STATE'] == 'Pennsylvania')  or (row['STATE'] == 'New Jersey'):\n",
    "    return 'Northeast'\n",
    "  elif (row['STATE'] == 'Wisconsin') or (row['STATE'] == 'Michigan') or (row['STATE'] == 'Illinois') or (row['STATE'] == 'Indiana') or (row['STATE'] == 'Ohio') or (row['STATE'] == 'North Dakota') or (row['STATE'] == 'South Dakota') or (row['STATE'] == 'Nebraska') or (row['STATE'] == 'Kansas') or (row['STATE'] == 'Minnesota') or (row['STATE'] == 'Iowa') or (row['STATE'] == 'Missouri'): \n",
    "    return 'Midwest'\n",
    "  elif (row['STATE'] == 'Delaware') or (row['STATE'] == 'Maryland') or (row['STATE'] == 'District of Columbia') or (row['STATE'] == 'Virginia') or (row['STATE'] == 'West Virginia') or (row['STATE'] == 'North Carolina') or (row['STATE'] == 'South Carolina') or (row['STATE'] == 'Georgia') or (row['STATE'] == 'Florida')or (row['STATE'] == 'Kentucky') or (row['STATE'] =='Tennessee') or (row['STATE'] == 'Mississippi') or (row['STATE'] =='Alabama') or (row['STATE'] == 'Oklahoma') or (row['STATE'] == 'Texas') or (row['STATE'] == 'Arkansas') or (row['STATE'] == 'Louisiana'):\n",
    "    return 'South'\n",
    "  elif (row['STATE'] == 'Idaho') or (row['STATE'] == 'Montana') or (row['STATE'] == 'Wyoming') or (row['STATE'] == 'Nevada') or (row['STATE'] == 'Utah') or (row['STATE'] == 'Colorado') or (row['STATE'] == 'Arizona') or (row['STATE'] == 'New Mexico')or (row['STATE'] == 'Alaska') or (row['STATE'] == 'Washington') or (row['STATE'] == 'Oregon') or (row['STATE'] == 'California') or (row['STATE'] == 'Hawaii'):\n",
    "    return 'West'\n",
    "  else: return 'Not enough data'\n",
    "    \n",
    "df_ords_prods_merge['Region'] = ords_prods_merge.apply(region, axis=1)"
   ]
  },
  {
   "cell_type": "code",
   "execution_count": 13,
   "id": "d56baf0b",
   "metadata": {},
   "outputs": [],
   "source": [
    "# Creating low activity customer flag\n",
    "df_ords_prods_merge.loc[ords_prods_merge['max_order'] < 5, 'low_activity_customer'] = 'Yes'\n",
    "df_ords_prods_merge.loc[ords_prods_merge['max_order'] >= 5, 'low_activity_customer'] = 'No'\n"
   ]
  },
  {
   "cell_type": "code",
   "execution_count": 14,
   "id": "a5036088",
   "metadata": {},
   "outputs": [
    {
     "data": {
      "text/plain": [
       "No     30992664\n",
       "Yes     1441548\n",
       "Name: low_activity_customer, dtype: int64"
      ]
     },
     "execution_count": 14,
     "metadata": {},
     "output_type": "execute_result"
    }
   ],
   "source": [
    "df_ords_prods_merge['low_activity_customer'].value_counts(dropna = False)"
   ]
  },
  {
   "cell_type": "code",
   "execution_count": 15,
   "id": "18f2307c",
   "metadata": {},
   "outputs": [],
   "source": [
    "#Creating subset for only normal activity customers (orders greater than 5)\n",
    "df_ords_prods_merge_normal_customers = ords_prods_merge[ords_prods_merge['low_activity_customer']=='No']"
   ]
  },
  {
   "cell_type": "code",
   "execution_count": 16,
   "id": "8c14b2a5",
   "metadata": {},
   "outputs": [],
   "source": [
    "#Exporting subset with normal activity customer\n",
    "df_ords_prods_merge_normal_customers.to_csv(os.path.join(path,'02 Data','Prepared Data','ords_prods_merge_normal_customers.csv'))"
   ]
  },
  {
   "cell_type": "code",
   "execution_count": 20,
   "id": "541947f6",
   "metadata": {},
   "outputs": [],
   "source": [
    "#Creating customer profile on age\n",
    "Age_group = []\n",
    "\n",
    "for value in ords_prods_merge_normal_customers['Age']:\n",
    "    if (value >=18) and (value <=30):\n",
    "        Age_group.append('Young Adults 18-30')\n",
    "    elif (value >=31) and (value <=60):\n",
    "        Age_group.append('Adults 31-60')\n",
    "    elif (value >=61) and (value <=85):\n",
    "        Age_group.append('Seniors 61-85')\n",
    "    else:\n",
    "        Age_group.append('Not classified')\n",
    "        \n",
    "df_ords_prods_merge_normal_customers['Age_group'] = Age_group"
   ]
  },
  {
   "cell_type": "code",
   "execution_count": 1,
   "id": "ef0ddc10",
   "metadata": {},
   "outputs": [
    {
     "ename": "NameError",
     "evalue": "name 'ords_prods_merge_normal_customers' is not defined",
     "output_type": "error",
     "traceback": [
      "\u001b[1;31m---------------------------------------------------------------------------\u001b[0m",
      "\u001b[1;31mNameError\u001b[0m                                 Traceback (most recent call last)",
      "\u001b[1;32m~\\AppData\\Local\\Temp/ipykernel_26712/3619968346.py\u001b[0m in \u001b[0;36m<module>\u001b[1;34m\u001b[0m\n\u001b[0;32m      2\u001b[0m \u001b[0mIncome_group\u001b[0m \u001b[1;33m=\u001b[0m \u001b[1;33m[\u001b[0m\u001b[1;33m]\u001b[0m\u001b[1;33m\u001b[0m\u001b[1;33m\u001b[0m\u001b[0m\n\u001b[0;32m      3\u001b[0m \u001b[1;33m\u001b[0m\u001b[0m\n\u001b[1;32m----> 4\u001b[1;33m \u001b[1;32mfor\u001b[0m \u001b[0mvalue\u001b[0m \u001b[1;32min\u001b[0m \u001b[0mords_prods_merge_normal_customers\u001b[0m\u001b[1;33m[\u001b[0m\u001b[1;34m'income'\u001b[0m\u001b[1;33m]\u001b[0m\u001b[1;33m:\u001b[0m\u001b[1;33m\u001b[0m\u001b[1;33m\u001b[0m\u001b[0m\n\u001b[0m\u001b[0;32m      5\u001b[0m     \u001b[1;32mif\u001b[0m \u001b[1;33m(\u001b[0m\u001b[0mvalue\u001b[0m \u001b[1;33m>=\u001b[0m\u001b[1;36m10000\u001b[0m\u001b[1;33m)\u001b[0m \u001b[1;32mand\u001b[0m \u001b[1;33m(\u001b[0m\u001b[0mvalue\u001b[0m \u001b[1;33m<=\u001b[0m\u001b[1;36m40000\u001b[0m\u001b[1;33m)\u001b[0m\u001b[1;33m:\u001b[0m\u001b[1;33m\u001b[0m\u001b[1;33m\u001b[0m\u001b[0m\n\u001b[0;32m      6\u001b[0m         \u001b[0mIncome_group\u001b[0m\u001b[1;33m.\u001b[0m\u001b[0mappend\u001b[0m\u001b[1;33m(\u001b[0m\u001b[1;34m'Low_income'\u001b[0m\u001b[1;33m)\u001b[0m\u001b[1;33m\u001b[0m\u001b[1;33m\u001b[0m\u001b[0m\n",
      "\u001b[1;31mNameError\u001b[0m: name 'ords_prods_merge_normal_customers' is not defined"
     ]
    }
   ],
   "source": [
    "#Creating customer profile on Income\n",
    "Income_group = []\n",
    "\n",
    "for value in ords_prods_merge_normal_customers['income']:\n",
    "    if (value >=10000) and (value <=40000):\n",
    "        Income_group.append('Low_income')\n",
    "    elif (value >40000) and (value <=100000):\n",
    "        Income_group.append('Mid_income')\n",
    "    elif value > 100000:\n",
    "        Income_group.append('High_income')\n",
    "    else:\n",
    "        Income_group.append('Not classified')\n",
    "        \n",
    "df_ords_prods_merge_normal_customers['Income_group'] = Income_group"
   ]
  },
  {
   "cell_type": "code",
   "execution_count": 30,
   "id": "c2485ef8",
   "metadata": {},
   "outputs": [],
   "source": [
    "#Creating customer profile on Dependents\n",
    "Family_group = []\n",
    "\n",
    "for value in ords_prods_merge_normal_customers['Children']:\n",
    "    if value == 0 :\n",
    "        Family_group.append('No Children')\n",
    "    elif value > 0:\n",
    "        Family_group.append('With Children')\n",
    "    else:\n",
    "        Family_group.append('Not classified')\n",
    "        \n",
    "df_ords_prods_merge_normal_customers['Family_group'] = Family_group"
   ]
  },
  {
   "cell_type": "code",
   "execution_count": 36,
   "id": "fb5280f9",
   "metadata": {},
   "outputs": [
    {
     "data": {
      "image/png": "[encoded data removed]",
      "text/plain": [
       "<Figure size 432x288 with 1 Axes>"
      ]
     },
     "metadata": {
      "needs_background": "light"
     },
     "output_type": "display_data"
    }
   ],
   "source": [
    "# Creating bar chart - Orders per region\n",
    "bar_1 = df_ords_prods_merge_normal_customers['Region'].value_counts().plot.bar()"
   ]
  },
  {
   "cell_type": "code",
   "execution_count": 38,
   "id": "db41418b",
   "metadata": {},
   "outputs": [],
   "source": [
    "bar_1.figure.savefig(os.path.join(path, '04 Analysis','Visualisation', 'orders_per_region.png'))"
   ]
  },
  {
   "cell_type": "code",
   "execution_count": 43,
   "id": "770332ca",
   "metadata": {},
   "outputs": [
    {
     "data": {
      "image/png": "[encoded data removed]",
      "text/plain": [
       "<Figure size 432x288 with 1 Axes>"
      ]
     },
     "metadata": {
      "needs_background": "light"
     },
     "output_type": "display_data"
    }
   ],
   "source": [
    "# Creating bar chart - Orders per type of customer\n",
    "bar_2 = df_ords_prods_merge_normal_customers['loyalty_flag'].value_counts().plot.bar()"
   ]
  },
  {
   "cell_type": "code",
   "execution_count": 44,
   "id": "ba1c86c6",
   "metadata": {},
   "outputs": [],
   "source": [
    "bar_2.figure.savefig(os.path.join(path, '04 Analysis','Visualisation', 'orders_per_type_customer.png'))"
   ]
  },
  {
   "cell_type": "code",
   "execution_count": 58,
   "id": "fa39598d",
   "metadata": {},
   "outputs": [],
   "source": [
    "# Exporting df\n",
    "df_ords_prods_merge_normal_customers.to_pickle(os.path.join(path, '02 Data','Prepared Data', 'ord_prods_merge_normal_customers.pkl')) "
   ]
  },
  {
   "cell_type": "markdown",
   "id": "f7b8030d",
   "metadata": {},
   "source": [
    "# Continuing in next script page"
   ]
  }
 ],
 "metadata": {
  "kernelspec": {
   "display_name": "Python 3 (ipykernel)",
   "language": "python",
   "name": "python3"
  },
  "language_info": {
   "codemirror_mode": {
    "name": "ipython",
    "version": 3
   },
   "file_extension": ".py",
   "mimetype": "text/x-python",
   "name": "python",
   "nbconvert_exporter": "python",
   "pygments_lexer": "ipython3",
   "version": "3.9.7"
  }
 },
 "nbformat": 4,
 "nbformat_minor": 5
}
